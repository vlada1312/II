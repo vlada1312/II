{
 "cells": [
  {
   "cell_type": "code",
   "execution_count": 1,
   "metadata": {},
   "outputs": [
    {
     "name": "stdout",
     "output_type": "stream",
     "text": [
      "Collecting scikit-fuzzy\n",
      "  Downloading scikit-fuzzy-0.4.2.tar.gz (993 kB)\n",
      "     ---------------------------------------- 0.0/994.0 kB ? eta -:--:--\n",
      "     - ------------------------------------- 30.7/994.0 kB 1.3 MB/s eta 0:00:01\n",
      "     - ----------------------------------- 41.0/994.0 kB 960.0 kB/s eta 0:00:01\n",
      "     ----- -------------------------------- 143.4/994.0 kB 1.2 MB/s eta 0:00:01\n",
      "     ------- ------------------------------ 204.8/994.0 kB 1.4 MB/s eta 0:00:01\n",
      "     ---------- --------------------------- 266.2/994.0 kB 1.4 MB/s eta 0:00:01\n",
      "     ------------ ------------------------- 327.7/994.0 kB 1.2 MB/s eta 0:00:01\n",
      "     -------------- ----------------------- 368.6/994.0 kB 1.3 MB/s eta 0:00:01\n",
      "     --------------- ---------------------- 409.6/994.0 kB 1.2 MB/s eta 0:00:01\n",
      "     ----------------- -------------------- 460.8/994.0 kB 1.2 MB/s eta 0:00:01\n",
      "     ------------------ ------------------- 481.3/994.0 kB 1.2 MB/s eta 0:00:01\n",
      "     --------------------- ---------------- 573.4/994.0 kB 1.2 MB/s eta 0:00:01\n",
      "     ----------------------- -------------- 604.2/994.0 kB 1.1 MB/s eta 0:00:01\n",
      "     ------------------------- ------------ 655.4/994.0 kB 1.1 MB/s eta 0:00:01\n",
      "     -------------------------- ----------- 686.1/994.0 kB 1.1 MB/s eta 0:00:01\n",
      "     -------------------------- ----------- 686.1/994.0 kB 1.1 MB/s eta 0:00:01\n",
      "     ---------------------------- --------- 737.3/994.0 kB 1.0 MB/s eta 0:00:01\n",
      "     ----------------------------- -------- 768.0/994.0 kB 1.0 MB/s eta 0:00:01\n",
      "     ---------------------------- ------- 798.7/994.0 kB 989.3 kB/s eta 0:00:01\n",
      "     ----------------------------- ------ 819.2/994.0 kB 958.5 kB/s eta 0:00:01\n",
      "     ------------------------------ ----- 849.9/994.0 kB 942.4 kB/s eta 0:00:01\n",
      "     ------------------------------- ---- 880.6/994.0 kB 912.4 kB/s eta 0:00:01\n",
      "     --------------------------------- -- 911.4/994.0 kB 901.1 kB/s eta 0:00:01\n",
      "     --------------------------------- -- 931.8/994.0 kB 907.1 kB/s eta 0:00:01\n",
      "     ---------------------------------- - 952.3/994.0 kB 873.1 kB/s eta 0:00:01\n",
      "     ------------------------------------ 994.0/994.0 kB 862.2 kB/s eta 0:00:00\n",
      "  Installing build dependencies: started\n",
      "  Installing build dependencies: finished with status 'done'\n",
      "  Getting requirements to build wheel: started\n",
      "  Getting requirements to build wheel: finished with status 'done'\n",
      "  Preparing metadata (pyproject.toml): started\n",
      "  Preparing metadata (pyproject.toml): finished with status 'done'\n",
      "Requirement already satisfied: numpy>=1.6.0 in c:\\users\\vlada\\appdata\\local\\programs\\python\\python311\\lib\\site-packages (from scikit-fuzzy) (1.24.2)\n",
      "Requirement already satisfied: scipy>=0.9.0 in c:\\users\\vlada\\appdata\\local\\programs\\python\\python311\\lib\\site-packages (from scikit-fuzzy) (1.11.2)\n",
      "Requirement already satisfied: networkx>=1.9.0 in c:\\users\\vlada\\appdata\\local\\programs\\python\\python311\\lib\\site-packages (from scikit-fuzzy) (3.1)\n",
      "Building wheels for collected packages: scikit-fuzzy\n",
      "  Building wheel for scikit-fuzzy (pyproject.toml): started\n",
      "  Building wheel for scikit-fuzzy (pyproject.toml): finished with status 'done'\n",
      "  Created wheel for scikit-fuzzy: filename=scikit_fuzzy-0.4.2-py3-none-any.whl size=894085 sha256=030c2c711498e5ae64c7705dffaf826c6ae0242706819c3c2fbbe8d87de48d79\n",
      "  Stored in directory: c:\\users\\vlada\\appdata\\local\\pip\\cache\\wheels\\b1\\67\\d1\\6c29aeb1cd2d36447ad5b0de027580b8894aff702a9b50041e\n",
      "Successfully built scikit-fuzzy\n",
      "Installing collected packages: scikit-fuzzy\n",
      "Successfully installed scikit-fuzzy-0.4.2\n",
      "Note: you may need to restart the kernel to use updated packages.\n"
     ]
    },
    {
     "name": "stderr",
     "output_type": "stream",
     "text": [
      "\n",
      "[notice] A new release of pip is available: 23.2.1 -> 24.0\n",
      "[notice] To update, run: python.exe -m pip install --upgrade pip\n"
     ]
    }
   ],
   "source": [
    "pip install scikit-fuzzy"
   ]
  },
  {
   "cell_type": "code",
   "execution_count": 2,
   "metadata": {},
   "outputs": [],
   "source": [
    "import numpy as np\n",
    "import skfuzzy as fuzz\n",
    "from skfuzzy import control as ctrl\n",
    "\n",
    "\n",
    "# переменные для задачи управления транспортным средством - автомобиль (управление рулем, газом, тормоз при въезде в гараж)\n",
    "steering_wheel_control = ctrl.Antecedent(np.arange(0, 240, 1), 'steering wheel')\n",
    "gas = ctrl.Antecedent(np.arange(0, 7, 1), 'gas')\n",
    "brake  = ctrl.Antecedent(np.arange(0, 50, 1), 'brake')\n",
    "\n",
    "#выходная переменная - скорость\n",
    "speed = ctrl.Consequent(np.arange(0, 180, 1), 'speed')\n",
    "\n",
    "#используем стандартную функцию принадлежности (треугольник)\n",
    "speed.automf(names=['small', 'medium', 'high'])\n",
    "\n",
    "#ранжируем данные\n",
    "steering_wheel_control['small'] = fuzz.trapmf(steering_wheel_control.universe, [0, 25, 55, 85])\n",
    "steering_wheel_control['medium'] = fuzz.trapmf(steering_wheel_control.universe, [70, 100, 125, 160])\n",
    "steering_wheel_control['high'] = fuzz.trapmf(steering_wheel_control.universe, [145, 170, 195, 210])\n",
    "\n",
    "gas['low'] = fuzz.trapmf(gas.universe, [0, 1, 2, 2])\n",
    "gas['medium'] = fuzz.trapmf(gas.universe, [3, 3, 4, 5])\n",
    "gas['high'] = fuzz.trapmf(gas.universe, [4, 5, 6, 7])\n",
    "\n",
    "brake['weakly'] = fuzz.trapmf(brake.universe, [0, 5, 15, 20])\n",
    "brake['enough'] = fuzz.trapmf(brake.universe, [10, 24, 30, 34])\n",
    "brake['strongly'] = fuzz.trapmf(brake.universe,[25, 40, 47, 55])"
   ]
  }
 ],
 "metadata": {
  "kernelspec": {
   "display_name": "Python 3",
   "language": "python",
   "name": "python3"
  },
  "language_info": {
   "codemirror_mode": {
    "name": "ipython",
    "version": 3
   },
   "file_extension": ".py",
   "mimetype": "text/x-python",
   "name": "python",
   "nbconvert_exporter": "python",
   "pygments_lexer": "ipython3",
   "version": "3.11.3"
  }
 },
 "nbformat": 4,
 "nbformat_minor": 2
}
