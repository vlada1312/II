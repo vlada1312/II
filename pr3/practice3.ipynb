{
 "cells": [
  {
   "cell_type": "code",
   "execution_count": 1,
   "metadata": {},
   "outputs": [
    {
     "name": "stderr",
     "output_type": "stream",
     "text": [
      "c:\\Users\\vlada\\AppData\\Local\\Programs\\Python\\Python311\\Lib\\site-packages\\tqdm\\auto.py:21: TqdmWarning: IProgress not found. Please update jupyter and ipywidgets. See https://ipywidgets.readthedocs.io/en/stable/user_install.html\n",
      "  from .autonotebook import tqdm as notebook_tqdm\n"
     ]
    }
   ],
   "source": [
    "import optuna\n",
    "\n",
    "import numpy as np\n",
    "import pandas as pd\n",
    "\n",
    "from sklearn.preprocessing import StandardScaler, LabelEncoder\n",
    "from sklearn.model_selection import cross_val_score\n",
    "from sklearn.svm import SVC"
   ]
  },
  {
   "cell_type": "markdown",
   "metadata": {},
   "source": [
    "Прежде чем перейти к обучению более сложной модели, проведем предобработку данных (возьмем ее из предыдущей практики)"
   ]
  },
  {
   "cell_type": "code",
   "execution_count": 2,
   "metadata": {},
   "outputs": [
    {
     "data": {
      "text/html": [
       "<div>\n",
       "<style scoped>\n",
       "    .dataframe tbody tr th:only-of-type {\n",
       "        vertical-align: middle;\n",
       "    }\n",
       "\n",
       "    .dataframe tbody tr th {\n",
       "        vertical-align: top;\n",
       "    }\n",
       "\n",
       "    .dataframe thead th {\n",
       "        text-align: right;\n",
       "    }\n",
       "</style>\n",
       "<table border=\"1\" class=\"dataframe\">\n",
       "  <thead>\n",
       "    <tr style=\"text-align: right;\">\n",
       "      <th></th>\n",
       "      <th>Year_of_Release</th>\n",
       "      <th>Global_Sales</th>\n",
       "      <th>Critic_Score</th>\n",
       "      <th>Critic_Count</th>\n",
       "      <th>User_Score</th>\n",
       "      <th>User_Count</th>\n",
       "      <th>Rating</th>\n",
       "      <th>DC</th>\n",
       "      <th>DS</th>\n",
       "      <th>GBA</th>\n",
       "      <th>...</th>\n",
       "      <th>id Software</th>\n",
       "      <th>id Software, Nerve Software</th>\n",
       "      <th>id Software, Raven Software</th>\n",
       "      <th>n-Space</th>\n",
       "      <th>neo Software</th>\n",
       "      <th>odenis studio</th>\n",
       "      <th>oeFun</th>\n",
       "      <th>puzzle.tv</th>\n",
       "      <th>syn Sophia</th>\n",
       "      <th>zSlide</th>\n",
       "    </tr>\n",
       "  </thead>\n",
       "  <tbody>\n",
       "    <tr>\n",
       "      <th>0</th>\n",
       "      <td>2006.0</td>\n",
       "      <td>82.53</td>\n",
       "      <td>76.0</td>\n",
       "      <td>51.0</td>\n",
       "      <td>8.0</td>\n",
       "      <td>322.0</td>\n",
       "      <td>1</td>\n",
       "      <td>0</td>\n",
       "      <td>0</td>\n",
       "      <td>0</td>\n",
       "      <td>...</td>\n",
       "      <td>0</td>\n",
       "      <td>0</td>\n",
       "      <td>0</td>\n",
       "      <td>0</td>\n",
       "      <td>0</td>\n",
       "      <td>0</td>\n",
       "      <td>0</td>\n",
       "      <td>0</td>\n",
       "      <td>0</td>\n",
       "      <td>0</td>\n",
       "    </tr>\n",
       "    <tr>\n",
       "      <th>2</th>\n",
       "      <td>2008.0</td>\n",
       "      <td>35.52</td>\n",
       "      <td>82.0</td>\n",
       "      <td>73.0</td>\n",
       "      <td>8.3</td>\n",
       "      <td>709.0</td>\n",
       "      <td>1</td>\n",
       "      <td>0</td>\n",
       "      <td>0</td>\n",
       "      <td>0</td>\n",
       "      <td>...</td>\n",
       "      <td>0</td>\n",
       "      <td>0</td>\n",
       "      <td>0</td>\n",
       "      <td>0</td>\n",
       "      <td>0</td>\n",
       "      <td>0</td>\n",
       "      <td>0</td>\n",
       "      <td>0</td>\n",
       "      <td>0</td>\n",
       "      <td>0</td>\n",
       "    </tr>\n",
       "    <tr>\n",
       "      <th>3</th>\n",
       "      <td>2009.0</td>\n",
       "      <td>32.77</td>\n",
       "      <td>80.0</td>\n",
       "      <td>73.0</td>\n",
       "      <td>8.0</td>\n",
       "      <td>192.0</td>\n",
       "      <td>1</td>\n",
       "      <td>0</td>\n",
       "      <td>0</td>\n",
       "      <td>0</td>\n",
       "      <td>...</td>\n",
       "      <td>0</td>\n",
       "      <td>0</td>\n",
       "      <td>0</td>\n",
       "      <td>0</td>\n",
       "      <td>0</td>\n",
       "      <td>0</td>\n",
       "      <td>0</td>\n",
       "      <td>0</td>\n",
       "      <td>0</td>\n",
       "      <td>0</td>\n",
       "    </tr>\n",
       "    <tr>\n",
       "      <th>6</th>\n",
       "      <td>2006.0</td>\n",
       "      <td>29.80</td>\n",
       "      <td>89.0</td>\n",
       "      <td>65.0</td>\n",
       "      <td>8.5</td>\n",
       "      <td>431.0</td>\n",
       "      <td>1</td>\n",
       "      <td>0</td>\n",
       "      <td>1</td>\n",
       "      <td>0</td>\n",
       "      <td>...</td>\n",
       "      <td>0</td>\n",
       "      <td>0</td>\n",
       "      <td>0</td>\n",
       "      <td>0</td>\n",
       "      <td>0</td>\n",
       "      <td>0</td>\n",
       "      <td>0</td>\n",
       "      <td>0</td>\n",
       "      <td>0</td>\n",
       "      <td>0</td>\n",
       "    </tr>\n",
       "    <tr>\n",
       "      <th>7</th>\n",
       "      <td>2006.0</td>\n",
       "      <td>28.92</td>\n",
       "      <td>58.0</td>\n",
       "      <td>41.0</td>\n",
       "      <td>6.6</td>\n",
       "      <td>129.0</td>\n",
       "      <td>1</td>\n",
       "      <td>0</td>\n",
       "      <td>0</td>\n",
       "      <td>0</td>\n",
       "      <td>...</td>\n",
       "      <td>0</td>\n",
       "      <td>0</td>\n",
       "      <td>0</td>\n",
       "      <td>0</td>\n",
       "      <td>0</td>\n",
       "      <td>0</td>\n",
       "      <td>0</td>\n",
       "      <td>0</td>\n",
       "      <td>0</td>\n",
       "      <td>0</td>\n",
       "    </tr>\n",
       "    <tr>\n",
       "      <th>...</th>\n",
       "      <td>...</td>\n",
       "      <td>...</td>\n",
       "      <td>...</td>\n",
       "      <td>...</td>\n",
       "      <td>...</td>\n",
       "      <td>...</td>\n",
       "      <td>...</td>\n",
       "      <td>...</td>\n",
       "      <td>...</td>\n",
       "      <td>...</td>\n",
       "      <td>...</td>\n",
       "      <td>...</td>\n",
       "      <td>...</td>\n",
       "      <td>...</td>\n",
       "      <td>...</td>\n",
       "      <td>...</td>\n",
       "      <td>...</td>\n",
       "      <td>...</td>\n",
       "      <td>...</td>\n",
       "      <td>...</td>\n",
       "      <td>...</td>\n",
       "    </tr>\n",
       "    <tr>\n",
       "      <th>16685</th>\n",
       "      <td>1997.0</td>\n",
       "      <td>0.01</td>\n",
       "      <td>0.0</td>\n",
       "      <td>0.0</td>\n",
       "      <td>8.1</td>\n",
       "      <td>12.0</td>\n",
       "      <td>4</td>\n",
       "      <td>0</td>\n",
       "      <td>0</td>\n",
       "      <td>0</td>\n",
       "      <td>...</td>\n",
       "      <td>0</td>\n",
       "      <td>0</td>\n",
       "      <td>0</td>\n",
       "      <td>0</td>\n",
       "      <td>0</td>\n",
       "      <td>0</td>\n",
       "      <td>0</td>\n",
       "      <td>0</td>\n",
       "      <td>0</td>\n",
       "      <td>0</td>\n",
       "    </tr>\n",
       "    <tr>\n",
       "      <th>16692</th>\n",
       "      <td>2011.0</td>\n",
       "      <td>0.01</td>\n",
       "      <td>0.0</td>\n",
       "      <td>0.0</td>\n",
       "      <td>0.0</td>\n",
       "      <td>0.0</td>\n",
       "      <td>7</td>\n",
       "      <td>0</td>\n",
       "      <td>0</td>\n",
       "      <td>0</td>\n",
       "      <td>...</td>\n",
       "      <td>0</td>\n",
       "      <td>0</td>\n",
       "      <td>0</td>\n",
       "      <td>0</td>\n",
       "      <td>0</td>\n",
       "      <td>0</td>\n",
       "      <td>0</td>\n",
       "      <td>0</td>\n",
       "      <td>0</td>\n",
       "      <td>0</td>\n",
       "    </tr>\n",
       "    <tr>\n",
       "      <th>16696</th>\n",
       "      <td>2014.0</td>\n",
       "      <td>0.01</td>\n",
       "      <td>80.0</td>\n",
       "      <td>20.0</td>\n",
       "      <td>7.6</td>\n",
       "      <td>412.0</td>\n",
       "      <td>5</td>\n",
       "      <td>0</td>\n",
       "      <td>0</td>\n",
       "      <td>0</td>\n",
       "      <td>...</td>\n",
       "      <td>0</td>\n",
       "      <td>0</td>\n",
       "      <td>0</td>\n",
       "      <td>0</td>\n",
       "      <td>0</td>\n",
       "      <td>0</td>\n",
       "      <td>0</td>\n",
       "      <td>0</td>\n",
       "      <td>0</td>\n",
       "      <td>0</td>\n",
       "    </tr>\n",
       "    <tr>\n",
       "      <th>16699</th>\n",
       "      <td>2001.0</td>\n",
       "      <td>0.01</td>\n",
       "      <td>67.0</td>\n",
       "      <td>9.0</td>\n",
       "      <td>0.0</td>\n",
       "      <td>0.0</td>\n",
       "      <td>1</td>\n",
       "      <td>0</td>\n",
       "      <td>0</td>\n",
       "      <td>1</td>\n",
       "      <td>...</td>\n",
       "      <td>0</td>\n",
       "      <td>0</td>\n",
       "      <td>0</td>\n",
       "      <td>0</td>\n",
       "      <td>0</td>\n",
       "      <td>0</td>\n",
       "      <td>0</td>\n",
       "      <td>0</td>\n",
       "      <td>0</td>\n",
       "      <td>0</td>\n",
       "    </tr>\n",
       "    <tr>\n",
       "      <th>16700</th>\n",
       "      <td>2011.0</td>\n",
       "      <td>0.01</td>\n",
       "      <td>61.0</td>\n",
       "      <td>12.0</td>\n",
       "      <td>5.8</td>\n",
       "      <td>43.0</td>\n",
       "      <td>7</td>\n",
       "      <td>0</td>\n",
       "      <td>0</td>\n",
       "      <td>0</td>\n",
       "      <td>...</td>\n",
       "      <td>0</td>\n",
       "      <td>0</td>\n",
       "      <td>0</td>\n",
       "      <td>0</td>\n",
       "      <td>0</td>\n",
       "      <td>0</td>\n",
       "      <td>0</td>\n",
       "      <td>0</td>\n",
       "      <td>0</td>\n",
       "      <td>0</td>\n",
       "    </tr>\n",
       "  </tbody>\n",
       "</table>\n",
       "<p>9762 rows × 2019 columns</p>\n",
       "</div>"
      ],
      "text/plain": [
       "       Year_of_Release  Global_Sales  Critic_Score  Critic_Count  User_Score   \n",
       "0               2006.0         82.53          76.0          51.0         8.0  \\\n",
       "2               2008.0         35.52          82.0          73.0         8.3   \n",
       "3               2009.0         32.77          80.0          73.0         8.0   \n",
       "6               2006.0         29.80          89.0          65.0         8.5   \n",
       "7               2006.0         28.92          58.0          41.0         6.6   \n",
       "...                ...           ...           ...           ...         ...   \n",
       "16685           1997.0          0.01           0.0           0.0         8.1   \n",
       "16692           2011.0          0.01           0.0           0.0         0.0   \n",
       "16696           2014.0          0.01          80.0          20.0         7.6   \n",
       "16699           2001.0          0.01          67.0           9.0         0.0   \n",
       "16700           2011.0          0.01          61.0          12.0         5.8   \n",
       "\n",
       "       User_Count  Rating  DC  DS  GBA  ...  id Software   \n",
       "0           322.0       1   0   0    0  ...            0  \\\n",
       "2           709.0       1   0   0    0  ...            0   \n",
       "3           192.0       1   0   0    0  ...            0   \n",
       "6           431.0       1   0   1    0  ...            0   \n",
       "7           129.0       1   0   0    0  ...            0   \n",
       "...           ...     ...  ..  ..  ...  ...          ...   \n",
       "16685        12.0       4   0   0    0  ...            0   \n",
       "16692         0.0       7   0   0    0  ...            0   \n",
       "16696       412.0       5   0   0    0  ...            0   \n",
       "16699         0.0       1   0   0    1  ...            0   \n",
       "16700        43.0       7   0   0    0  ...            0   \n",
       "\n",
       "       id Software, Nerve Software  id Software, Raven Software  n-Space   \n",
       "0                                0                            0        0  \\\n",
       "2                                0                            0        0   \n",
       "3                                0                            0        0   \n",
       "6                                0                            0        0   \n",
       "7                                0                            0        0   \n",
       "...                            ...                          ...      ...   \n",
       "16685                            0                            0        0   \n",
       "16692                            0                            0        0   \n",
       "16696                            0                            0        0   \n",
       "16699                            0                            0        0   \n",
       "16700                            0                            0        0   \n",
       "\n",
       "       neo Software  odenis studio  oeFun  puzzle.tv  syn Sophia  zSlide  \n",
       "0                 0              0      0          0           0       0  \n",
       "2                 0              0      0          0           0       0  \n",
       "3                 0              0      0          0           0       0  \n",
       "6                 0              0      0          0           0       0  \n",
       "7                 0              0      0          0           0       0  \n",
       "...             ...            ...    ...        ...         ...     ...  \n",
       "16685             0              0      0          0           0       0  \n",
       "16692             0              0      0          0           0       0  \n",
       "16696             0              0      0          0           0       0  \n",
       "16699             0              0      0          0           0       0  \n",
       "16700             0              0      0          0           0       0  \n",
       "\n",
       "[9762 rows x 2019 columns]"
      ]
     },
     "execution_count": 2,
     "metadata": {},
     "output_type": "execute_result"
    }
   ],
   "source": [
    "data = pd.read_csv(\"Video_Games_Sales.csv\", encoding='cp1252')\n",
    "data['User_Score'] = data['User_Score'].str.replace('tbd', '0').astype(float)\n",
    "data['User_Score'] = data['User_Score'].fillna('0').astype(float)\n",
    "data['User_Count'] = data['User_Count'].fillna('0').astype(float)\n",
    "data['Critic_Score'] = data['Critic_Score'].fillna('0').astype(float)\n",
    "data['Critic_Count'] = data['Critic_Count'].fillna('0').astype(float)\n",
    "data = data.dropna(subset=\"Rating\")\n",
    "data.loc[data.isnull().any(axis=1)]\n",
    "data = data.dropna(subset=\"Year_of_Release\")\n",
    "data = data.dropna(subset=\"Publisher\")\n",
    "df = data.copy()\n",
    "df.drop('NA_Sales', inplace=True, axis=1)\n",
    "df.drop('EU_Sales', inplace=True, axis=1)\n",
    "df.drop('JP_Sales', inplace=True, axis=1)\n",
    "df.drop('Other_Sales', inplace=True, axis=1)\n",
    "df.drop('Name', inplace=True, axis=1)\n",
    "cat_cols = df.select_dtypes(include=\"object\")\n",
    "le = LabelEncoder()\n",
    "df['Rating'] = le.fit_transform(cat_cols['Rating'])\n",
    "columns_to_encode = ['Platform', 'Genre', 'Publisher', 'Developer']\n",
    "for c in columns_to_encode:\n",
    "    dummies = pd.get_dummies(df[c], drop_first=True)\n",
    "    df = pd.concat([df, dummies], axis=1)\n",
    "    df.drop(c, axis=1, inplace=True)\n",
    "df = df.replace({True: 1, False: 0})\n",
    "df.head(-5)\n"
   ]
  },
  {
   "cell_type": "markdown",
   "metadata": {},
   "source": [
    "## 1. Построить более сложную модель с подбором гиперпараметров "
   ]
  },
  {
   "cell_type": "markdown",
   "metadata": {},
   "source": [
    "Для поиска оптимальных гиперпараметров воспользуемся фреймворком Optuna "
   ]
  },
  {
   "cell_type": "code",
   "execution_count": 3,
   "metadata": {},
   "outputs": [],
   "source": [
    "from sklearn.model_selection import train_test_split\n",
    "from sklearn.ensemble import RandomForestRegressor\n",
    "from sklearn.metrics import mean_absolute_error\n",
    "X = df.drop(columns = 'Global_Sales')\n",
    "Y = df['Global_Sales']\n",
    "X_train, X_test, y_train, y_test = train_test_split(X, Y, test_size=0.2, random_state=0)"
   ]
  },
  {
   "cell_type": "markdown",
   "metadata": {},
   "source": [
    "Рассмотрим 2 варианта проверки качества моделей\n",
    "\n",
    "1 способ (менее надежный, зато более быстрый) - обучение модели на тренировочных данных и оценка предсказания\n",
    "\n",
    "2 способ (более надежный, но занимает большее количество времени) - использование cross_val_score "
   ]
  },
  {
   "cell_type": "markdown",
   "metadata": {},
   "source": [
    "P.S. при n_trial=5 1 способ показал результат лучше"
   ]
  },
  {
   "cell_type": "code",
   "execution_count": 4,
   "metadata": {},
   "outputs": [],
   "source": [
    "def objective(trial):\n",
    "    n_estimators = trial.suggest_int('n_estimators', 50, 150) # количество деревьев\n",
    "    max_depth = trial.suggest_int('max_depth', 3, 15) #  максимальная глубина каждого дерева\n",
    "    \n",
    "    # Создание модели Случайный лес с выбранными гиперпараметрами\n",
    "    model = RandomForestRegressor(n_estimators=n_estimators, max_depth=max_depth)\n",
    "    \n",
    "    # 1 способ (менее надежный, зато более быстрый) - обучение модели на тренировочных данных и оценка предсказания:\n",
    "    model.fit(X_train, y_train)\n",
    "    y_pred = model.predict(X_test)\n",
    "    mae = mean_absolute_error(y_test, y_pred)\n",
    "\n",
    "    # 2 способ:\n",
    "    # Оценка модели с кросс-валидацией\n",
    "    # score = cross_val_score(model, X_train, y_train, cv=5, scoring='neg_mean_absolute_error', n_jobs=-1)\n",
    "    # mae = -score.mean()\n",
    "    return mae"
   ]
  },
  {
   "cell_type": "code",
   "execution_count": 5,
   "metadata": {},
   "outputs": [
    {
     "name": "stderr",
     "output_type": "stream",
     "text": [
      "[I 2024-03-17 20:53:20,209] A new study created in memory with name: no-name-98bb185c-3e5d-4d4e-a85b-82d4b1a48fbd\n",
      "[I 2024-03-17 20:53:36,328] Trial 0 finished with value: 0.40938413199151374 and parameters: {'n_estimators': 127, 'max_depth': 7}. Best is trial 0 with value: 0.40938413199151374.\n",
      "[I 2024-03-17 20:54:02,437] Trial 1 finished with value: 0.4143834441134956 and parameters: {'n_estimators': 132, 'max_depth': 7}. Best is trial 0 with value: 0.40938413199151374.\n",
      "[I 2024-03-17 20:54:35,008] Trial 2 finished with value: 0.4236295316093067 and parameters: {'n_estimators': 137, 'max_depth': 6}. Best is trial 0 with value: 0.40938413199151374.\n",
      "[I 2024-03-17 20:54:55,007] Trial 3 finished with value: 0.39399879149326605 and parameters: {'n_estimators': 64, 'max_depth': 9}. Best is trial 3 with value: 0.39399879149326605.\n",
      "[I 2024-03-17 20:55:30,118] Trial 4 finished with value: 0.3729598341977917 and parameters: {'n_estimators': 94, 'max_depth': 12}. Best is trial 4 with value: 0.3729598341977917.\n",
      "[I 2024-03-17 20:55:39,825] Trial 5 finished with value: 0.45506688829506436 and parameters: {'n_estimators': 58, 'max_depth': 4}. Best is trial 4 with value: 0.3729598341977917.\n",
      "[I 2024-03-17 20:56:00,558] Trial 6 finished with value: 0.4377352748501125 and parameters: {'n_estimators': 102, 'max_depth': 5}. Best is trial 4 with value: 0.3729598341977917.\n",
      "[I 2024-03-17 20:56:31,706] Trial 7 finished with value: 0.39983286987503763 and parameters: {'n_estimators': 111, 'max_depth': 8}. Best is trial 4 with value: 0.3729598341977917.\n",
      "[I 2024-03-17 20:56:57,622] Trial 8 finished with value: 0.37339838119594115 and parameters: {'n_estimators': 71, 'max_depth': 12}. Best is trial 4 with value: 0.3729598341977917.\n",
      "[I 2024-03-17 20:57:12,258] Trial 9 finished with value: 0.42561467779088225 and parameters: {'n_estimators': 63, 'max_depth': 6}. Best is trial 4 with value: 0.3729598341977917.\n",
      "[I 2024-03-17 20:57:47,854] Trial 10 finished with value: 0.36158468839724467 and parameters: {'n_estimators': 87, 'max_depth': 14}. Best is trial 10 with value: 0.36158468839724467.\n",
      "[I 2024-03-17 20:58:22,462] Trial 11 finished with value: 0.35851452450860755 and parameters: {'n_estimators': 85, 'max_depth': 14}. Best is trial 11 with value: 0.35851452450860755.\n",
      "[I 2024-03-17 20:58:56,901] Trial 12 finished with value: 0.36104955600543664 and parameters: {'n_estimators': 81, 'max_depth': 15}. Best is trial 11 with value: 0.35851452450860755.\n",
      "[I 2024-03-17 20:59:32,609] Trial 13 finished with value: 0.3584817924578744 and parameters: {'n_estimators': 79, 'max_depth': 15}. Best is trial 13 with value: 0.3584817924578744.\n",
      "[I 2024-03-17 21:00:16,765] Trial 14 finished with value: 0.3725158418899503 and parameters: {'n_estimators': 115, 'max_depth': 12}. Best is trial 13 with value: 0.3584817924578744.\n",
      "[I 2024-03-17 21:00:37,964] Trial 15 finished with value: 0.3644309665764681 and parameters: {'n_estimators': 50, 'max_depth': 14}. Best is trial 13 with value: 0.3584817924578744.\n",
      "[I 2024-03-17 21:01:05,964] Trial 16 finished with value: 0.3787422102789438 and parameters: {'n_estimators': 78, 'max_depth': 11}. Best is trial 13 with value: 0.3584817924578744.\n",
      "[I 2024-03-17 21:02:10,556] Trial 17 finished with value: 0.3584601197512468 and parameters: {'n_estimators': 148, 'max_depth': 15}. Best is trial 17 with value: 0.3584601197512468.\n",
      "[I 2024-03-17 21:03:00,027] Trial 18 finished with value: 0.3841210496065262 and parameters: {'n_estimators': 145, 'max_depth': 10}. Best is trial 17 with value: 0.3584601197512468.\n",
      "[I 2024-03-17 21:03:50,122] Trial 19 finished with value: 0.35769548731899126 and parameters: {'n_estimators': 119, 'max_depth': 15}. Best is trial 19 with value: 0.35769548731899126.\n",
      "[I 2024-03-17 21:04:48,048] Trial 20 finished with value: 0.36766588442720427 and parameters: {'n_estimators': 149, 'max_depth': 13}. Best is trial 19 with value: 0.35769548731899126.\n",
      "[I 2024-03-17 21:05:37,770] Trial 21 finished with value: 0.35574166300731147 and parameters: {'n_estimators': 119, 'max_depth': 15}. Best is trial 21 with value: 0.35574166300731147.\n",
      "[I 2024-03-17 21:06:28,538] Trial 22 finished with value: 0.35611277664917323 and parameters: {'n_estimators': 120, 'max_depth': 15}. Best is trial 21 with value: 0.35574166300731147.\n",
      "[I 2024-03-17 21:07:15,228] Trial 23 finished with value: 0.365661879104958 and parameters: {'n_estimators': 122, 'max_depth': 13}. Best is trial 21 with value: 0.35574166300731147.\n",
      "[I 2024-03-17 21:07:56,583] Trial 24 finished with value: 0.36411220594303456 and parameters: {'n_estimators': 107, 'max_depth': 13}. Best is trial 21 with value: 0.35574166300731147.\n",
      "[I 2024-03-17 21:08:45,623] Trial 25 finished with value: 0.36045327837814317 and parameters: {'n_estimators': 118, 'max_depth': 15}. Best is trial 21 with value: 0.35574166300731147.\n",
      "[I 2024-03-17 21:09:18,896] Trial 26 finished with value: 0.38110333161611387 and parameters: {'n_estimators': 97, 'max_depth': 11}. Best is trial 21 with value: 0.35574166300731147.\n",
      "[I 2024-03-17 21:09:32,063] Trial 27 finished with value: 0.4720072037523456 and parameters: {'n_estimators': 137, 'max_depth': 3}. Best is trial 21 with value: 0.35574166300731147.\n",
      "[I 2024-03-17 21:10:21,311] Trial 28 finished with value: 0.3670317554869867 and parameters: {'n_estimators': 124, 'max_depth': 14}. Best is trial 21 with value: 0.35574166300731147.\n",
      "[I 2024-03-17 21:11:11,793] Trial 29 finished with value: 0.36320333421973294 and parameters: {'n_estimators': 130, 'max_depth': 13}. Best is trial 21 with value: 0.35574166300731147.\n",
      "[I 2024-03-17 21:11:47,391] Trial 30 finished with value: 0.3769625762844046 and parameters: {'n_estimators': 103, 'max_depth': 11}. Best is trial 21 with value: 0.35574166300731147.\n",
      "[I 2024-03-17 21:12:46,956] Trial 31 finished with value: 0.357141756460434 and parameters: {'n_estimators': 141, 'max_depth': 15}. Best is trial 21 with value: 0.35574166300731147.\n",
      "[I 2024-03-17 21:13:43,875] Trial 32 finished with value: 0.3585570250081489 and parameters: {'n_estimators': 135, 'max_depth': 15}. Best is trial 21 with value: 0.35574166300731147.\n",
      "[I 2024-03-17 21:14:41,334] Trial 33 finished with value: 0.36262142098158323 and parameters: {'n_estimators': 142, 'max_depth': 14}. Best is trial 21 with value: 0.35574166300731147.\n",
      "[I 2024-03-17 21:15:35,413] Trial 34 finished with value: 0.3599349897331199 and parameters: {'n_estimators': 127, 'max_depth': 15}. Best is trial 21 with value: 0.35574166300731147.\n",
      "[I 2024-03-17 21:16:23,585] Trial 35 finished with value: 0.3606544689116986 and parameters: {'n_estimators': 120, 'max_depth': 14}. Best is trial 21 with value: 0.35574166300731147.\n",
      "[I 2024-03-17 21:16:57,208] Trial 36 finished with value: 0.3894764527335751 and parameters: {'n_estimators': 112, 'max_depth': 9}. Best is trial 21 with value: 0.35574166300731147.\n",
      "[I 2024-03-17 21:17:43,996] Trial 37 finished with value: 0.37294625418545285 and parameters: {'n_estimators': 130, 'max_depth': 12}. Best is trial 21 with value: 0.35574166300731147.\n",
      "[I 2024-03-17 21:18:36,861] Trial 38 finished with value: 0.36825170195484985 and parameters: {'n_estimators': 138, 'max_depth': 13}. Best is trial 21 with value: 0.35574166300731147.\n",
      "[I 2024-03-17 21:19:22,579] Trial 39 finished with value: 0.35809789922110274 and parameters: {'n_estimators': 108, 'max_depth': 15}. Best is trial 21 with value: 0.35574166300731147.\n",
      "[I 2024-03-17 21:19:45,690] Trial 40 finished with value: 0.41092592587646876 and parameters: {'n_estimators': 92, 'max_depth': 7}. Best is trial 21 with value: 0.35574166300731147.\n",
      "[I 2024-03-17 21:20:31,290] Trial 41 finished with value: 0.3562502662894762 and parameters: {'n_estimators': 109, 'max_depth': 15}. Best is trial 21 with value: 0.35574166300731147.\n",
      "[I 2024-03-17 21:21:18,472] Trial 42 finished with value: 0.3623470155485599 and parameters: {'n_estimators': 117, 'max_depth': 14}. Best is trial 21 with value: 0.35574166300731147.\n",
      "[I 2024-03-17 21:22:10,948] Trial 43 finished with value: 0.36553845228174 and parameters: {'n_estimators': 125, 'max_depth': 15}. Best is trial 21 with value: 0.35574166300731147.\n",
      "[I 2024-03-17 21:22:54,436] Trial 44 finished with value: 0.360353614267472 and parameters: {'n_estimators': 107, 'max_depth': 14}. Best is trial 21 with value: 0.35574166300731147.\n",
      "[I 2024-03-17 21:23:38,011] Trial 45 finished with value: 0.37041078493849483 and parameters: {'n_estimators': 113, 'max_depth': 13}. Best is trial 21 with value: 0.35574166300731147.\n",
      "[I 2024-03-17 21:24:19,999] Trial 46 finished with value: 0.36011206099376064 and parameters: {'n_estimators': 100, 'max_depth': 15}. Best is trial 21 with value: 0.35574166300731147.\n",
      "[I 2024-03-17 21:25:13,719] Trial 47 finished with value: 0.36349772290248883 and parameters: {'n_estimators': 132, 'max_depth': 14}. Best is trial 21 with value: 0.35574166300731147.\n",
      "[I 2024-03-17 21:25:51,792] Trial 48 finished with value: 0.37077126979015507 and parameters: {'n_estimators': 104, 'max_depth': 12}. Best is trial 21 with value: 0.35574166300731147.\n",
      "[I 2024-03-17 21:26:31,161] Trial 49 finished with value: 0.3548535504495926 and parameters: {'n_estimators': 93, 'max_depth': 15}. Best is trial 49 with value: 0.3548535504495926.\n",
      "[I 2024-03-17 21:27:07,893] Trial 50 finished with value: 0.36436352399549365 and parameters: {'n_estimators': 92, 'max_depth': 14}. Best is trial 49 with value: 0.3548535504495926.\n",
      "[I 2024-03-17 21:27:57,108] Trial 51 finished with value: 0.3597872244370977 and parameters: {'n_estimators': 116, 'max_depth': 15}. Best is trial 49 with value: 0.3548535504495926.\n",
      "[I 2024-03-17 21:28:37,440] Trial 52 finished with value: 0.35933867347791076 and parameters: {'n_estimators': 95, 'max_depth': 15}. Best is trial 49 with value: 0.3548535504495926.\n",
      "[I 2024-03-17 21:29:11,624] Trial 53 finished with value: 0.36295721405425185 and parameters: {'n_estimators': 88, 'max_depth': 14}. Best is trial 49 with value: 0.3548535504495926.\n",
      "[I 2024-03-17 21:29:53,162] Trial 54 finished with value: 0.3582357112775983 and parameters: {'n_estimators': 109, 'max_depth': 15}. Best is trial 49 with value: 0.3548535504495926.\n",
      "[I 2024-03-17 21:30:30,512] Trial 55 finished with value: 0.36923711332881043 and parameters: {'n_estimators': 99, 'max_depth': 13}. Best is trial 49 with value: 0.3548535504495926.\n",
      "[I 2024-03-17 21:30:54,576] Trial 56 finished with value: 0.4365934010471811 and parameters: {'n_estimators': 121, 'max_depth': 5}. Best is trial 49 with value: 0.3548535504495926.\n",
      "[I 2024-03-17 21:31:53,752] Trial 57 finished with value: 0.3596835612675063 and parameters: {'n_estimators': 143, 'max_depth': 15}. Best is trial 49 with value: 0.3548535504495926.\n",
      "[I 2024-03-17 21:32:35,531] Trial 58 finished with value: 0.36524162411087513 and parameters: {'n_estimators': 104, 'max_depth': 14}. Best is trial 49 with value: 0.3548535504495926.\n",
      "[I 2024-03-17 21:33:28,238] Trial 59 finished with value: 0.3571761668089348 and parameters: {'n_estimators': 127, 'max_depth': 15}. Best is trial 49 with value: 0.3548535504495926.\n",
      "[I 2024-03-17 21:33:47,696] Trial 60 finished with value: 0.3999474649070555 and parameters: {'n_estimators': 71, 'max_depth': 8}. Best is trial 49 with value: 0.3548535504495926.\n",
      "[I 2024-03-17 21:34:39,494] Trial 61 finished with value: 0.35882235504992366 and parameters: {'n_estimators': 127, 'max_depth': 15}. Best is trial 49 with value: 0.3548535504495926.\n",
      "[I 2024-03-17 21:35:30,325] Trial 62 finished with value: 0.3591105834192234 and parameters: {'n_estimators': 123, 'max_depth': 15}. Best is trial 49 with value: 0.3548535504495926.\n",
      "[I 2024-03-17 21:36:15,958] Trial 63 finished with value: 0.3643851413719758 and parameters: {'n_estimators': 115, 'max_depth': 14}. Best is trial 49 with value: 0.3548535504495926.\n",
      "[I 2024-03-17 21:37:06,755] Trial 64 finished with value: 0.3688798139034557 and parameters: {'n_estimators': 135, 'max_depth': 13}. Best is trial 49 with value: 0.3548535504495926.\n",
      "[I 2024-03-17 21:37:56,006] Trial 65 finished with value: 0.3634120707242476 and parameters: {'n_estimators': 120, 'max_depth': 15}. Best is trial 49 with value: 0.3548535504495926.\n",
      "[I 2024-03-17 21:38:40,363] Trial 66 finished with value: 0.3636043971346377 and parameters: {'n_estimators': 111, 'max_depth': 14}. Best is trial 49 with value: 0.3548535504495926.\n",
      "[I 2024-03-17 21:39:37,279] Trial 67 finished with value: 0.35808421209305136 and parameters: {'n_estimators': 140, 'max_depth': 15}. Best is trial 49 with value: 0.3548535504495926.\n",
      "[I 2024-03-17 21:40:29,699] Trial 68 finished with value: 0.35740872020503756 and parameters: {'n_estimators': 133, 'max_depth': 14}. Best is trial 49 with value: 0.3548535504495926.\n",
      "[I 2024-03-17 21:41:21,950] Trial 69 finished with value: 0.3702948341589551 and parameters: {'n_estimators': 147, 'max_depth': 12}. Best is trial 49 with value: 0.3548535504495926.\n",
      "[I 2024-03-17 21:42:10,662] Trial 70 finished with value: 0.3690889094130694 and parameters: {'n_estimators': 131, 'max_depth': 13}. Best is trial 49 with value: 0.3548535504495926.\n",
      "[I 2024-03-17 21:43:05,409] Trial 71 finished with value: 0.3554065014833358 and parameters: {'n_estimators': 134, 'max_depth': 15}. Best is trial 49 with value: 0.3548535504495926.\n",
      "[I 2024-03-17 21:44:00,325] Trial 72 finished with value: 0.3608650055582255 and parameters: {'n_estimators': 134, 'max_depth': 15}. Best is trial 49 with value: 0.3548535504495926.\n",
      "[I 2024-03-17 21:44:56,006] Trial 73 finished with value: 0.3640973519638221 and parameters: {'n_estimators': 142, 'max_depth': 14}. Best is trial 49 with value: 0.3548535504495926.\n",
      "[I 2024-03-17 21:45:45,404] Trial 74 finished with value: 0.36318602274466716 and parameters: {'n_estimators': 127, 'max_depth': 14}. Best is trial 49 with value: 0.3548535504495926.\n",
      "[I 2024-03-17 21:46:37,286] Trial 75 finished with value: 0.35789717670026333 and parameters: {'n_estimators': 128, 'max_depth': 15}. Best is trial 49 with value: 0.3548535504495926.\n",
      "[I 2024-03-17 21:47:33,867] Trial 76 finished with value: 0.35890690675865394 and parameters: {'n_estimators': 139, 'max_depth': 15}. Best is trial 49 with value: 0.3548535504495926.\n",
      "[I 2024-03-17 21:48:22,299] Trial 77 finished with value: 0.36086744129272863 and parameters: {'n_estimators': 125, 'max_depth': 14}. Best is trial 49 with value: 0.3548535504495926.\n",
      "[I 2024-03-17 21:49:05,314] Trial 78 finished with value: 0.389127012905551 and parameters: {'n_estimators': 134, 'max_depth': 10}. Best is trial 49 with value: 0.3548535504495926.\n",
      "[I 2024-03-17 21:50:02,739] Trial 79 finished with value: 0.3644861443896694 and parameters: {'n_estimators': 146, 'max_depth': 14}. Best is trial 49 with value: 0.3548535504495926.\n"
     ]
    }
   ],
   "source": [
    "study = optuna.create_study(direction='minimize')\n",
    "study.optimize(objective, n_trials=80)"
   ]
  },
  {
   "cell_type": "code",
   "execution_count": 6,
   "metadata": {},
   "outputs": [
    {
     "name": "stdout",
     "output_type": "stream",
     "text": [
      "Best value (MAE): 0.3548535504495926\n",
      "Best parameters: {'n_estimators': 93, 'max_depth': 15}\n",
      "FrozenTrial(number=49, state=1, values=[0.3548535504495926], datetime_start=datetime.datetime(2024, 3, 17, 21, 25, 51, 795311), datetime_complete=datetime.datetime(2024, 3, 17, 21, 26, 31, 161263), params={'n_estimators': 93, 'max_depth': 15}, user_attrs={}, system_attrs={}, intermediate_values={}, distributions={'n_estimators': IntDistribution(high=150, log=False, low=50, step=1), 'max_depth': IntDistribution(high=15, log=False, low=3, step=1)}, trial_id=49, value=None)\n"
     ]
    }
   ],
   "source": [
    "print(\"Best value (MAE):\", study.best_value)\n",
    "print(\"Best parameters:\", study.best_params)\n",
    "print(study.best_trial)"
   ]
  },
  {
   "cell_type": "markdown",
   "metadata": {},
   "source": [
    "При количестве обходов, равному 100, MAE в данной задаче (0.354374686039254) примерно в два раза меньше, чем в предыдущей (0.628189211266312). Следовательно, можно сделать вывод, что данная модель примерно в 2 раза лучше"
   ]
  },
  {
   "cell_type": "code",
   "execution_count": 7,
   "metadata": {},
   "outputs": [],
   "source": [
    "# Получение лучших гиперпараметров из Study\n",
    "best_params = study.best_params\n",
    "\n",
    "model = RandomForestRegressor(**best_params)\n",
    "model.fit(X_train, y_train)\n",
    "y_pred = model.predict(X_test)"
   ]
  },
  {
   "cell_type": "code",
   "execution_count": 8,
   "metadata": {},
   "outputs": [
    {
     "name": "stdout",
     "output_type": "stream",
     "text": [
      "       Actual  Predicted\n",
      "8219     0.17   0.213118\n",
      "13423    0.05   0.165655\n",
      "7970     0.19   0.167937\n",
      "4434     0.44   0.892822\n",
      "3134     0.64   0.429562\n"
     ]
    }
   ],
   "source": [
    "new_df = pd.DataFrame({'Actual': y_test, \"Predicted\": y_pred}) \n",
    "print(new_df.head())"
   ]
  },
  {
   "cell_type": "code",
   "execution_count": 9,
   "metadata": {},
   "outputs": [
    {
     "data": {
      "text/plain": [
       "[<matplotlib.lines.Line2D at 0x1558312d5d0>]"
      ]
     },
     "execution_count": 9,
     "metadata": {},
     "output_type": "execute_result"
    },
    {
     "data": {
      "image/png": "[encoded data removed]",
      "text/plain": [
       "<Figure size 640x480 with 1 Axes>"
      ]
     },
     "metadata": {},
     "output_type": "display_data"
    }
   ],
   "source": [
    "from matplotlib import pyplot as plt\n",
    "\n",
    "plt.scatter(y_test, y_pred, alpha=0.1)\n",
    "(plt.plot([0, 10], [0, 10], 'r-'))"
   ]
  },
  {
   "cell_type": "markdown",
   "metadata": {},
   "source": [
    "Сравнивая итог оценивания с предыдущим предсказанием (с помощью модели регрессии), можно сделать вывод, что теперь данные предсказаны точнее"
   ]
  },
  {
   "cell_type": "markdown",
   "metadata": {},
   "source": [
    "## 2. Проинтерпретировать полученную модель"
   ]
  },
  {
   "cell_type": "code",
   "execution_count": 10,
   "metadata": {},
   "outputs": [
    {
     "data": {
      "application/vnd.plotly.v1+json": {
       "config": {
        "plotlyServerURL": "https://plot.ly"
       },
       "data": [
        {
         "mode": "markers",
         "name": "Objective Value",
         "type": "scatter",
         "x": [
          0,
          1,
          2,
          3,
          4,
          5,
          6,
          7,
          8,
          9,
          10,
          11,
          12,
          13,
          14,
          15,
          16,
          17,
          18,
          19,
          20,
          21,
          22,
          23,
          24,
          25,
          26,
          27,
          28,
          29,
          30,
          31,
          32,
          33,
          34,
          35,
          36,
          37,
          38,
          39,
          40,
          41,
          42,
          43,
          44,
          45,
          46,
          47,
          48,
          49,
          50,
          51,
          52,
          53,
          54,
          55,
          56,
          57,
          58,
          59,
          60,
          61,
          62,
          63,
          64,
          65,
          66,
          67,
          68,
          69,
          70,
          71,
          72,
          73,
          74,
          75,
          76,
          77,
          78,
          79
         ],
         "y": [
          0.40938413199151374,
          0.4143834441134956,
          0.4236295316093067,
          0.39399879149326605,
          0.3729598341977917,
          0.45506688829506436,
          0.4377352748501125,
          0.39983286987503763,
          0.37339838119594115,
          0.42561467779088225,
          0.36158468839724467,
          0.35851452450860755,
          0.36104955600543664,
          0.3584817924578744,
          0.3725158418899503,
          0.3644309665764681,
          0.3787422102789438,
          0.3584601197512468,
          0.3841210496065262,
          0.35769548731899126,
          0.36766588442720427,
          0.35574166300731147,
          0.35611277664917323,
          0.365661879104958,
          0.36411220594303456,
          0.36045327837814317,
          0.38110333161611387,
          0.4720072037523456,
          0.3670317554869867,
          0.36320333421973294,
          0.3769625762844046,
          0.357141756460434,
          0.3585570250081489,
          0.36262142098158323,
          0.3599349897331199,
          0.3606544689116986,
          0.3894764527335751,
          0.37294625418545285,
          0.36825170195484985,
          0.35809789922110274,
          0.41092592587646876,
          0.3562502662894762,
          0.3623470155485599,
          0.36553845228174,
          0.360353614267472,
          0.37041078493849483,
          0.36011206099376064,
          0.36349772290248883,
          0.37077126979015507,
          0.3548535504495926,
          0.36436352399549365,
          0.3597872244370977,
          0.35933867347791076,
          0.36295721405425185,
          0.3582357112775983,
          0.36923711332881043,
          0.4365934010471811,
          0.3596835612675063,
          0.36524162411087513,
          0.3571761668089348,
          0.3999474649070555,
          0.35882235504992366,
          0.3591105834192234,
          0.3643851413719758,
          0.3688798139034557,
          0.3634120707242476,
          0.3636043971346377,
          0.35808421209305136,
          0.35740872020503756,
          0.3702948341589551,
          0.3690889094130694,
          0.3554065014833358,
          0.3608650055582255,
          0.3640973519638221,
          0.36318602274466716,
          0.35789717670026333,
          0.35890690675865394,
          0.36086744129272863,
          0.389127012905551,
          0.3644861443896694
         ]
        },
        {
         "mode": "lines",
         "name": "Best Value",
         "type": "scatter",
         "x": [
          0,
          1,
          2,
          3,
          4,
          5,
          6,
          7,
          8,
          9,
          10,
          11,
          12,
          13,
          14,
          15,
          16,
          17,
          18,
          19,
          20,
          21,
          22,
          23,
          24,
          25,
          26,
          27,
          28,
          29,
          30,
          31,
          32,
          33,
          34,
          35,
          36,
          37,
          38,
          39,
          40,
          41,
          42,
          43,
          44,
          45,
          46,
          47,
          48,
          49,
          50,
          51,
          52,
          53,
          54,
          55,
          56,
          57,
          58,
          59,
          60,
          61,
          62,
          63,
          64,
          65,
          66,
          67,
          68,
          69,
          70,
          71,
          72,
          73,
          74,
          75,
          76,
          77,
          78,
          79
         ],
         "y": [
          0.40938413199151374,
          0.40938413199151374,
          0.40938413199151374,
          0.39399879149326605,
          0.3729598341977917,
          0.3729598341977917,
          0.3729598341977917,
          0.3729598341977917,
          0.3729598341977917,
          0.3729598341977917,
          0.36158468839724467,
          0.35851452450860755,
          0.35851452450860755,
          0.3584817924578744,
          0.3584817924578744,
          0.3584817924578744,
          0.3584817924578744,
          0.3584601197512468,
          0.3584601197512468,
          0.35769548731899126,
          0.35769548731899126,
          0.35574166300731147,
          0.35574166300731147,
          0.35574166300731147,
          0.35574166300731147,
          0.35574166300731147,
          0.35574166300731147,
          0.35574166300731147,
          0.35574166300731147,
          0.35574166300731147,
          0.35574166300731147,
          0.35574166300731147,
          0.35574166300731147,
          0.35574166300731147,
          0.35574166300731147,
          0.35574166300731147,
          0.35574166300731147,
          0.35574166300731147,
          0.35574166300731147,
          0.35574166300731147,
          0.35574166300731147,
          0.35574166300731147,
          0.35574166300731147,
          0.35574166300731147,
          0.35574166300731147,
          0.35574166300731147,
          0.35574166300731147,
          0.35574166300731147,
          0.35574166300731147,
          0.3548535504495926,
          0.3548535504495926,
          0.3548535504495926,
          0.3548535504495926,
          0.3548535504495926,
          0.3548535504495926,
          0.3548535504495926,
          0.3548535504495926,
          0.3548535504495926,
          0.3548535504495926,
          0.3548535504495926,
          0.3548535504495926,
          0.3548535504495926,
          0.3548535504495926,
          0.3548535504495926,
          0.3548535504495926,
          0.3548535504495926,
          0.3548535504495926,
          0.3548535504495926,
          0.3548535504495926,
          0.3548535504495926,
          0.3548535504495926,
          0.3548535504495926,
          0.3548535504495926,
          0.3548535504495926,
          0.3548535504495926,
          0.3548535504495926,
          0.3548535504495926,
          0.3548535504495926,
          0.3548535504495926,
          0.3548535504495926
         ]
        },
        {
         "marker": {
          "color": "#cccccc"
         },
         "mode": "markers",
         "name": "Infeasible Trial",
         "showlegend": false,
         "type": "scatter",
         "x": [],
         "y": []
        }
       ],
       "layout": {
        "template": {
         "data": {
          "bar": [
           {
            "error_x": {
             "color": "#2a3f5f"
            },
            "error_y": {
             "color": "#2a3f5f"
            },
            "marker": {
             "line": {
              "color": "#E5ECF6",
              "width": 0.5
             },
             "pattern": {
              "fillmode": "overlay",
              "size": 10,
              "solidity": 0.2
             }
            },
            "type": "bar"
           }
          ],
          "barpolar": [
           {
            "marker": {
             "line": {
              "color": "#E5ECF6",
              "width": 0.5
             },
             "pattern": {
              "fillmode": "overlay",
              "size": 10,
              "solidity": 0.2
             }
            },
            "type": "barpolar"
           }
          ],
          "carpet": [
           {
            "aaxis": {
             "endlinecolor": "#2a3f5f",
             "gridcolor": "white",
             "linecolor": "white",
             "minorgridcolor": "white",
             "startlinecolor": "#2a3f5f"
            },
            "baxis": {
             "endlinecolor": "#2a3f5f",
             "gridcolor": "white",
             "linecolor": "white",
             "minorgridcolor": "white",
             "startlinecolor": "#2a3f5f"
            },
            "type": "carpet"
           }
          ],
          "choropleth": [
           {
            "colorbar": {
             "outlinewidth": 0,
             "ticks": ""
            },
            "type": "choropleth"
           }
          ],
          "contour": [
           {
            "colorbar": {
             "outlinewidth": 0,
             "ticks": ""
            },
            "colorscale": [
             [
              0,
              "#0d0887"
             ],
             [
              0.1111111111111111,
              "#46039f"
             ],
             [
              0.2222222222222222,
              "#7201a8"
             ],
             [
              0.3333333333333333,
              "#9c179e"
             ],
             [
              0.4444444444444444,
              "#bd3786"
             ],
             [
              0.5555555555555556,
              "#d8576b"
             ],
             [
              0.6666666666666666,
              "#ed7953"
             ],
             [
              0.7777777777777778,
              "#fb9f3a"
             ],
             [
              0.8888888888888888,
              "#fdca26"
             ],
             [
              1,
              "#f0f921"
             ]
            ],
            "type": "contour"
           }
          ],
          "contourcarpet": [
           {
            "colorbar": {
             "outlinewidth": 0,
             "ticks": ""
            },
            "type": "contourcarpet"
           }
          ],
          "heatmap": [
           {
            "colorbar": {
             "outlinewidth": 0,
             "ticks": ""
            },
            "colorscale": [
             [
              0,
              "#0d0887"
             ],
             [
              0.1111111111111111,
              "#46039f"
             ],
             [
              0.2222222222222222,
              "#7201a8"
             ],
             [
              0.3333333333333333,
              "#9c179e"
             ],
             [
              0.4444444444444444,
              "#bd3786"
             ],
             [
              0.5555555555555556,
              "#d8576b"
             ],
             [
              0.6666666666666666,
              "#ed7953"
             ],
             [
              0.7777777777777778,
              "#fb9f3a"
             ],
             [
              0.8888888888888888,
              "#fdca26"
             ],
             [
              1,
              "#f0f921"
             ]
            ],
            "type": "heatmap"
           }
          ],
          "heatmapgl": [
           {
            "colorbar": {
             "outlinewidth": 0,
             "ticks": ""
            },
            "colorscale": [
             [
              0,
              "#0d0887"
             ],
             [
              0.1111111111111111,
              "#46039f"
             ],
             [
              0.2222222222222222,
              "#7201a8"
             ],
             [
              0.3333333333333333,
              "#9c179e"
             ],
             [
              0.4444444444444444,
              "#bd3786"
             ],
             [
              0.5555555555555556,
              "#d8576b"
             ],
             [
              0.6666666666666666,
              "#ed7953"
             ],
             [
              0.7777777777777778,
              "#fb9f3a"
             ],
             [
              0.8888888888888888,
              "#fdca26"
             ],
             [
              1,
              "#f0f921"
             ]
            ],
            "type": "heatmapgl"
           }
          ],
          "histogram": [
           {
            "marker": {
             "pattern": {
              "fillmode": "overlay",
              "size": 10,
              "solidity": 0.2
             }
            },
            "type": "histogram"
           }
          ],
          "histogram2d": [
           {
            "colorbar": {
             "outlinewidth": 0,
             "ticks": ""
            },
            "colorscale": [
             [
              0,
              "#0d0887"
             ],
             [
              0.1111111111111111,
              "#46039f"
             ],
             [
              0.2222222222222222,
              "#7201a8"
             ],
             [
              0.3333333333333333,
              "#9c179e"
             ],
             [
              0.4444444444444444,
              "#bd3786"
             ],
             [
              0.5555555555555556,
              "#d8576b"
             ],
             [
              0.6666666666666666,
              "#ed7953"
             ],
             [
              0.7777777777777778,
              "#fb9f3a"
             ],
             [
              0.8888888888888888,
              "#fdca26"
             ],
             [
              1,
              "#f0f921"
             ]
            ],
            "type": "histogram2d"
           }
          ],
          "histogram2dcontour": [
           {
            "colorbar": {
             "outlinewidth": 0,
             "ticks": ""
            },
            "colorscale": [
             [
              0,
              "#0d0887"
             ],
             [
              0.1111111111111111,
              "#46039f"
             ],
             [
              0.2222222222222222,
              "#7201a8"
             ],
             [
              0.3333333333333333,
              "#9c179e"
             ],
             [
              0.4444444444444444,
              "#bd3786"
             ],
             [
              0.5555555555555556,
              "#d8576b"
             ],
             [
              0.6666666666666666,
              "#ed7953"
             ],
             [
              0.7777777777777778,
              "#fb9f3a"
             ],
             [
              0.8888888888888888,
              "#fdca26"
             ],
             [
              1,
              "#f0f921"
             ]
            ],
            "type": "histogram2dcontour"
           }
          ],
          "mesh3d": [
           {
            "colorbar": {
             "outlinewidth": 0,
             "ticks": ""
            },
            "type": "mesh3d"
           }
          ],
          "parcoords": [
           {
            "line": {
             "colorbar": {
              "outlinewidth": 0,
              "ticks": ""
             }
            },
            "type": "parcoords"
           }
          ],
          "pie": [
           {
            "automargin": true,
            "type": "pie"
           }
          ],
          "scatter": [
           {
            "fillpattern": {
             "fillmode": "overlay",
             "size": 10,
             "solidity": 0.2
            },
            "type": "scatter"
           }
          ],
          "scatter3d": [
           {
            "line": {
             "colorbar": {
              "outlinewidth": 0,
              "ticks": ""
             }
            },
            "marker": {
             "colorbar": {
              "outlinewidth": 0,
              "ticks": ""
             }
            },
            "type": "scatter3d"
           }
          ],
          "scattercarpet": [
           {
            "marker": {
             "colorbar": {
              "outlinewidth": 0,
              "ticks": ""
             }
            },
            "type": "scattercarpet"
           }
          ],
          "scattergeo": [
           {
            "marker": {
             "colorbar": {
              "outlinewidth": 0,
              "ticks": ""
             }
            },
            "type": "scattergeo"
           }
          ],
          "scattergl": [
           {
            "marker": {
             "colorbar": {
              "outlinewidth": 0,
              "ticks": ""
             }
            },
            "type": "scattergl"
           }
          ],
          "scattermapbox": [
           {
            "marker": {
             "colorbar": {
              "outlinewidth": 0,
              "ticks": ""
             }
            },
            "type": "scattermapbox"
           }
          ],
          "scatterpolar": [
           {
            "marker": {
             "colorbar": {
              "outlinewidth": 0,
              "ticks": ""
             }
            },
            "type": "scatterpolar"
           }
          ],
          "scatterpolargl": [
           {
            "marker": {
             "colorbar": {
              "outlinewidth": 0,
              "ticks": ""
             }
            },
            "type": "scatterpolargl"
           }
          ],
          "scatterternary": [
           {
            "marker": {
             "colorbar": {
              "outlinewidth": 0,
              "ticks": ""
             }
            },
            "type": "scatterternary"
           }
          ],
          "surface": [
           {
            "colorbar": {
             "outlinewidth": 0,
             "ticks": ""
            },
            "colorscale": [
             [
              0,
              "#0d0887"
             ],
             [
              0.1111111111111111,
              "#46039f"
             ],
             [
              0.2222222222222222,
              "#7201a8"
             ],
             [
              0.3333333333333333,
              "#9c179e"
             ],
             [
              0.4444444444444444,
              "#bd3786"
             ],
             [
              0.5555555555555556,
              "#d8576b"
             ],
             [
              0.6666666666666666,
              "#ed7953"
             ],
             [
              0.7777777777777778,
              "#fb9f3a"
             ],
             [
              0.8888888888888888,
              "#fdca26"
             ],
             [
              1,
              "#f0f921"
             ]
            ],
            "type": "surface"
           }
          ],
          "table": [
           {
            "cells": {
             "fill": {
              "color": "#EBF0F8"
             },
             "line": {
              "color": "white"
             }
            },
            "header": {
             "fill": {
              "color": "#C8D4E3"
             },
             "line": {
              "color": "white"
             }
            },
            "type": "table"
           }
          ]
         },
         "layout": {
          "annotationdefaults": {
           "arrowcolor": "#2a3f5f",
           "arrowhead": 0,
           "arrowwidth": 1
          },
          "autotypenumbers": "strict",
          "coloraxis": {
           "colorbar": {
            "outlinewidth": 0,
            "ticks": ""
           }
          },
          "colorscale": {
           "diverging": [
            [
             0,
             "#8e0152"
            ],
            [
             0.1,
             "#c51b7d"
            ],
            [
             0.2,
             "#de77ae"
            ],
            [
             0.3,
             "#f1b6da"
            ],
            [
             0.4,
             "#fde0ef"
            ],
            [
             0.5,
             "#f7f7f7"
            ],
            [
             0.6,
             "#e6f5d0"
            ],
            [
             0.7,
             "#b8e186"
            ],
            [
             0.8,
             "#7fbc41"
            ],
            [
             0.9,
             "#4d9221"
            ],
            [
             1,
             "#276419"
            ]
           ],
           "sequential": [
            [
             0,
             "#0d0887"
            ],
            [
             0.1111111111111111,
             "#46039f"
            ],
            [
             0.2222222222222222,
             "#7201a8"
            ],
            [
             0.3333333333333333,
             "#9c179e"
            ],
            [
             0.4444444444444444,
             "#bd3786"
            ],
            [
             0.5555555555555556,
             "#d8576b"
            ],
            [
             0.6666666666666666,
             "#ed7953"
            ],
            [
             0.7777777777777778,
             "#fb9f3a"
            ],
            [
             0.8888888888888888,
             "#fdca26"
            ],
            [
             1,
             "#f0f921"
            ]
           ],
           "sequentialminus": [
            [
             0,
             "#0d0887"
            ],
            [
             0.1111111111111111,
             "#46039f"
            ],
            [
             0.2222222222222222,
             "#7201a8"
            ],
            [
             0.3333333333333333,
             "#9c179e"
            ],
            [
             0.4444444444444444,
             "#bd3786"
            ],
            [
             0.5555555555555556,
             "#d8576b"
            ],
            [
             0.6666666666666666,
             "#ed7953"
            ],
            [
             0.7777777777777778,
             "#fb9f3a"
            ],
            [
             0.8888888888888888,
             "#fdca26"
            ],
            [
             1,
             "#f0f921"
            ]
           ]
          },
          "colorway": [
           "#636efa",
           "#EF553B",
           "#00cc96",
           "#ab63fa",
           "#FFA15A",
           "#19d3f3",
           "#FF6692",
           "#B6E880",
           "#FF97FF",
           "#FECB52"
          ],
          "font": {
           "color": "#2a3f5f"
          },
          "geo": {
           "bgcolor": "white",
           "lakecolor": "white",
           "landcolor": "#E5ECF6",
           "showlakes": true,
           "showland": true,
           "subunitcolor": "white"
          },
          "hoverlabel": {
           "align": "left"
          },
          "hovermode": "closest",
          "mapbox": {
           "style": "light"
          },
          "paper_bgcolor": "white",
          "plot_bgcolor": "#E5ECF6",
          "polar": {
           "angularaxis": {
            "gridcolor": "white",
            "linecolor": "white",
            "ticks": ""
           },
           "bgcolor": "#E5ECF6",
           "radialaxis": {
            "gridcolor": "white",
            "linecolor": "white",
            "ticks": ""
           }
          },
          "scene": {
           "xaxis": {
            "backgroundcolor": "#E5ECF6",
            "gridcolor": "white",
            "gridwidth": 2,
            "linecolor": "white",
            "showbackground": true,
            "ticks": "",
            "zerolinecolor": "white"
           },
           "yaxis": {
            "backgroundcolor": "#E5ECF6",
            "gridcolor": "white",
            "gridwidth": 2,
            "linecolor": "white",
            "showbackground": true,
            "ticks": "",
            "zerolinecolor": "white"
           },
           "zaxis": {
            "backgroundcolor": "#E5ECF6",
            "gridcolor": "white",
            "gridwidth": 2,
            "linecolor": "white",
            "showbackground": true,
            "ticks": "",
            "zerolinecolor": "white"
           }
          },
          "shapedefaults": {
           "line": {
            "color": "#2a3f5f"
           }
          },
          "ternary": {
           "aaxis": {
            "gridcolor": "white",
            "linecolor": "white",
            "ticks": ""
           },
           "baxis": {
            "gridcolor": "white",
            "linecolor": "white",
            "ticks": ""
           },
           "bgcolor": "#E5ECF6",
           "caxis": {
            "gridcolor": "white",
            "linecolor": "white",
            "ticks": ""
           }
          },
          "title": {
           "x": 0.05
          },
          "xaxis": {
           "automargin": true,
           "gridcolor": "white",
           "linecolor": "white",
           "ticks": "",
           "title": {
            "standoff": 15
           },
           "zerolinecolor": "white",
           "zerolinewidth": 2
          },
          "yaxis": {
           "automargin": true,
           "gridcolor": "white",
           "linecolor": "white",
           "ticks": "",
           "title": {
            "standoff": 15
           },
           "zerolinecolor": "white",
           "zerolinewidth": 2
          }
         }
        },
        "title": {
         "text": "Optimization History Plot"
        },
        "xaxis": {
         "title": {
          "text": "Trial"
         }
        },
        "yaxis": {
         "title": {
          "text": "Objective Value"
         }
        }
       }
      }
     },
     "metadata": {},
     "output_type": "display_data"
    }
   ],
   "source": [
    "fig = optuna.visualization.plot_optimization_history(study)\n",
    "fig.show()"
   ]
  },
  {
   "cell_type": "markdown",
   "metadata": {},
   "source": [
    "По данному графику видно, что после 20 попытки оценка предсказания менялась незначительно, следовательно можно остановиться на этом количестве"
   ]
  },
  {
   "cell_type": "code",
   "execution_count": 11,
   "metadata": {},
   "outputs": [
    {
     "data": {
      "application/vnd.plotly.v1+json": {
       "config": {
        "plotlyServerURL": "https://plot.ly"
       },
       "data": [
        {
         "marker": {
          "color": [
           0,
           1,
           2,
           3,
           4,
           5,
           6,
           7,
           8,
           9,
           10,
           11,
           12,
           13,
           14,
           15,
           16,
           17,
           18,
           19,
           20,
           21,
           22,
           23,
           24,
           25,
           26,
           27,
           28,
           29,
           30,
           31,
           32,
           33,
           34,
           35,
           36,
           37,
           38,
           39,
           40,
           41,
           42,
           43,
           44,
           45,
           46,
           47,
           48,
           49,
           50,
           51,
           52,
           53,
           54,
           55,
           56,
           57,
           58,
           59,
           60,
           61,
           62,
           63,
           64,
           65,
           66,
           67,
           68,
           69,
           70,
           71,
           72,
           73,
           74,
           75,
           76,
           77,
           78,
           79
          ],
          "colorbar": {
           "title": {
            "text": "Trial"
           },
           "x": 1,
           "xpad": 40
          },
          "colorscale": [
           [
            0,
            "rgb(247,251,255)"
           ],
           [
            0.125,
            "rgb(222,235,247)"
           ],
           [
            0.25,
            "rgb(198,219,239)"
           ],
           [
            0.375,
            "rgb(158,202,225)"
           ],
           [
            0.5,
            "rgb(107,174,214)"
           ],
           [
            0.625,
            "rgb(66,146,198)"
           ],
           [
            0.75,
            "rgb(33,113,181)"
           ],
           [
            0.875,
            "rgb(8,81,156)"
           ],
           [
            1,
            "rgb(8,48,107)"
           ]
          ],
          "line": {
           "color": "Grey",
           "width": 0.5
          },
          "showscale": true
         },
         "mode": "markers",
         "name": "Feasible Trial",
         "showlegend": false,
         "type": "scatter",
         "x": [
          7,
          7,
          6,
          9,
          12,
          4,
          5,
          8,
          12,
          6,
          14,
          14,
          15,
          15,
          12,
          14,
          11,
          15,
          10,
          15,
          13,
          15,
          15,
          13,
          13,
          15,
          11,
          3,
          14,
          13,
          11,
          15,
          15,
          14,
          15,
          14,
          9,
          12,
          13,
          15,
          7,
          15,
          14,
          15,
          14,
          13,
          15,
          14,
          12,
          15,
          14,
          15,
          15,
          14,
          15,
          13,
          5,
          15,
          14,
          15,
          8,
          15,
          15,
          14,
          13,
          15,
          14,
          15,
          14,
          12,
          13,
          15,
          15,
          14,
          14,
          15,
          15,
          14,
          10,
          14
         ],
         "xaxis": "x",
         "y": [
          0.40938413199151374,
          0.4143834441134956,
          0.4236295316093067,
          0.39399879149326605,
          0.3729598341977917,
          0.45506688829506436,
          0.4377352748501125,
          0.39983286987503763,
          0.37339838119594115,
          0.42561467779088225,
          0.36158468839724467,
          0.35851452450860755,
          0.36104955600543664,
          0.3584817924578744,
          0.3725158418899503,
          0.3644309665764681,
          0.3787422102789438,
          0.3584601197512468,
          0.3841210496065262,
          0.35769548731899126,
          0.36766588442720427,
          0.35574166300731147,
          0.35611277664917323,
          0.365661879104958,
          0.36411220594303456,
          0.36045327837814317,
          0.38110333161611387,
          0.4720072037523456,
          0.3670317554869867,
          0.36320333421973294,
          0.3769625762844046,
          0.357141756460434,
          0.3585570250081489,
          0.36262142098158323,
          0.3599349897331199,
          0.3606544689116986,
          0.3894764527335751,
          0.37294625418545285,
          0.36825170195484985,
          0.35809789922110274,
          0.41092592587646876,
          0.3562502662894762,
          0.3623470155485599,
          0.36553845228174,
          0.360353614267472,
          0.37041078493849483,
          0.36011206099376064,
          0.36349772290248883,
          0.37077126979015507,
          0.3548535504495926,
          0.36436352399549365,
          0.3597872244370977,
          0.35933867347791076,
          0.36295721405425185,
          0.3582357112775983,
          0.36923711332881043,
          0.4365934010471811,
          0.3596835612675063,
          0.36524162411087513,
          0.3571761668089348,
          0.3999474649070555,
          0.35882235504992366,
          0.3591105834192234,
          0.3643851413719758,
          0.3688798139034557,
          0.3634120707242476,
          0.3636043971346377,
          0.35808421209305136,
          0.35740872020503756,
          0.3702948341589551,
          0.3690889094130694,
          0.3554065014833358,
          0.3608650055582255,
          0.3640973519638221,
          0.36318602274466716,
          0.35789717670026333,
          0.35890690675865394,
          0.36086744129272863,
          0.389127012905551,
          0.3644861443896694
         ],
         "yaxis": "y"
        },
        {
         "marker": {
          "color": [
           0,
           1,
           2,
           3,
           4,
           5,
           6,
           7,
           8,
           9,
           10,
           11,
           12,
           13,
           14,
           15,
           16,
           17,
           18,
           19,
           20,
           21,
           22,
           23,
           24,
           25,
           26,
           27,
           28,
           29,
           30,
           31,
           32,
           33,
           34,
           35,
           36,
           37,
           38,
           39,
           40,
           41,
           42,
           43,
           44,
           45,
           46,
           47,
           48,
           49,
           50,
           51,
           52,
           53,
           54,
           55,
           56,
           57,
           58,
           59,
           60,
           61,
           62,
           63,
           64,
           65,
           66,
           67,
           68,
           69,
           70,
           71,
           72,
           73,
           74,
           75,
           76,
           77,
           78,
           79
          ],
          "colorbar": {
           "title": {
            "text": "Trial"
           },
           "x": 1,
           "xpad": 40
          },
          "colorscale": [
           [
            0,
            "rgb(247,251,255)"
           ],
           [
            0.125,
            "rgb(222,235,247)"
           ],
           [
            0.25,
            "rgb(198,219,239)"
           ],
           [
            0.375,
            "rgb(158,202,225)"
           ],
           [
            0.5,
            "rgb(107,174,214)"
           ],
           [
            0.625,
            "rgb(66,146,198)"
           ],
           [
            0.75,
            "rgb(33,113,181)"
           ],
           [
            0.875,
            "rgb(8,81,156)"
           ],
           [
            1,
            "rgb(8,48,107)"
           ]
          ],
          "line": {
           "color": "Grey",
           "width": 0.5
          },
          "showscale": false
         },
         "mode": "markers",
         "name": "Feasible Trial",
         "showlegend": false,
         "type": "scatter",
         "x": [
          127,
          132,
          137,
          64,
          94,
          58,
          102,
          111,
          71,
          63,
          87,
          85,
          81,
          79,
          115,
          50,
          78,
          148,
          145,
          119,
          149,
          119,
          120,
          122,
          107,
          118,
          97,
          137,
          124,
          130,
          103,
          141,
          135,
          142,
          127,
          120,
          112,
          130,
          138,
          108,
          92,
          109,
          117,
          125,
          107,
          113,
          100,
          132,
          104,
          93,
          92,
          116,
          95,
          88,
          109,
          99,
          121,
          143,
          104,
          127,
          71,
          127,
          123,
          115,
          135,
          120,
          111,
          140,
          133,
          147,
          131,
          134,
          134,
          142,
          127,
          128,
          139,
          125,
          134,
          146
         ],
         "xaxis": "x2",
         "y": [
          0.40938413199151374,
          0.4143834441134956,
          0.4236295316093067,
          0.39399879149326605,
          0.3729598341977917,
          0.45506688829506436,
          0.4377352748501125,
          0.39983286987503763,
          0.37339838119594115,
          0.42561467779088225,
          0.36158468839724467,
          0.35851452450860755,
          0.36104955600543664,
          0.3584817924578744,
          0.3725158418899503,
          0.3644309665764681,
          0.3787422102789438,
          0.3584601197512468,
          0.3841210496065262,
          0.35769548731899126,
          0.36766588442720427,
          0.35574166300731147,
          0.35611277664917323,
          0.365661879104958,
          0.36411220594303456,
          0.36045327837814317,
          0.38110333161611387,
          0.4720072037523456,
          0.3670317554869867,
          0.36320333421973294,
          0.3769625762844046,
          0.357141756460434,
          0.3585570250081489,
          0.36262142098158323,
          0.3599349897331199,
          0.3606544689116986,
          0.3894764527335751,
          0.37294625418545285,
          0.36825170195484985,
          0.35809789922110274,
          0.41092592587646876,
          0.3562502662894762,
          0.3623470155485599,
          0.36553845228174,
          0.360353614267472,
          0.37041078493849483,
          0.36011206099376064,
          0.36349772290248883,
          0.37077126979015507,
          0.3548535504495926,
          0.36436352399549365,
          0.3597872244370977,
          0.35933867347791076,
          0.36295721405425185,
          0.3582357112775983,
          0.36923711332881043,
          0.4365934010471811,
          0.3596835612675063,
          0.36524162411087513,
          0.3571761668089348,
          0.3999474649070555,
          0.35882235504992366,
          0.3591105834192234,
          0.3643851413719758,
          0.3688798139034557,
          0.3634120707242476,
          0.3636043971346377,
          0.35808421209305136,
          0.35740872020503756,
          0.3702948341589551,
          0.3690889094130694,
          0.3554065014833358,
          0.3608650055582255,
          0.3640973519638221,
          0.36318602274466716,
          0.35789717670026333,
          0.35890690675865394,
          0.36086744129272863,
          0.389127012905551,
          0.3644861443896694
         ],
         "yaxis": "y2"
        }
       ],
       "layout": {
        "template": {
         "data": {
          "bar": [
           {
            "error_x": {
             "color": "#2a3f5f"
            },
            "error_y": {
             "color": "#2a3f5f"
            },
            "marker": {
             "line": {
              "color": "#E5ECF6",
              "width": 0.5
             },
             "pattern": {
              "fillmode": "overlay",
              "size": 10,
              "solidity": 0.2
             }
            },
            "type": "bar"
           }
          ],
          "barpolar": [
           {
            "marker": {
             "line": {
              "color": "#E5ECF6",
              "width": 0.5
             },
             "pattern": {
              "fillmode": "overlay",
              "size": 10,
              "solidity": 0.2
             }
            },
            "type": "barpolar"
           }
          ],
          "carpet": [
           {
            "aaxis": {
             "endlinecolor": "#2a3f5f",
             "gridcolor": "white",
             "linecolor": "white",
             "minorgridcolor": "white",
             "startlinecolor": "#2a3f5f"
            },
            "baxis": {
             "endlinecolor": "#2a3f5f",
             "gridcolor": "white",
             "linecolor": "white",
             "minorgridcolor": "white",
             "startlinecolor": "#2a3f5f"
            },
            "type": "carpet"
           }
          ],
          "choropleth": [
           {
            "colorbar": {
             "outlinewidth": 0,
             "ticks": ""
            },
            "type": "choropleth"
           }
          ],
          "contour": [
           {
            "colorbar": {
             "outlinewidth": 0,
             "ticks": ""
            },
            "colorscale": [
             [
              0,
              "#0d0887"
             ],
             [
              0.1111111111111111,
              "#46039f"
             ],
             [
              0.2222222222222222,
              "#7201a8"
             ],
             [
              0.3333333333333333,
              "#9c179e"
             ],
             [
              0.4444444444444444,
              "#bd3786"
             ],
             [
              0.5555555555555556,
              "#d8576b"
             ],
             [
              0.6666666666666666,
              "#ed7953"
             ],
             [
              0.7777777777777778,
              "#fb9f3a"
             ],
             [
              0.8888888888888888,
              "#fdca26"
             ],
             [
              1,
              "#f0f921"
             ]
            ],
            "type": "contour"
           }
          ],
          "contourcarpet": [
           {
            "colorbar": {
             "outlinewidth": 0,
             "ticks": ""
            },
            "type": "contourcarpet"
           }
          ],
          "heatmap": [
           {
            "colorbar": {
             "outlinewidth": 0,
             "ticks": ""
            },
            "colorscale": [
             [
              0,
              "#0d0887"
             ],
             [
              0.1111111111111111,
              "#46039f"
             ],
             [
              0.2222222222222222,
              "#7201a8"
             ],
             [
              0.3333333333333333,
              "#9c179e"
             ],
             [
              0.4444444444444444,
              "#bd3786"
             ],
             [
              0.5555555555555556,
              "#d8576b"
             ],
             [
              0.6666666666666666,
              "#ed7953"
             ],
             [
              0.7777777777777778,
              "#fb9f3a"
             ],
             [
              0.8888888888888888,
              "#fdca26"
             ],
             [
              1,
              "#f0f921"
             ]
            ],
            "type": "heatmap"
           }
          ],
          "heatmapgl": [
           {
            "colorbar": {
             "outlinewidth": 0,
             "ticks": ""
            },
            "colorscale": [
             [
              0,
              "#0d0887"
             ],
             [
              0.1111111111111111,
              "#46039f"
             ],
             [
              0.2222222222222222,
              "#7201a8"
             ],
             [
              0.3333333333333333,
              "#9c179e"
             ],
             [
              0.4444444444444444,
              "#bd3786"
             ],
             [
              0.5555555555555556,
              "#d8576b"
             ],
             [
              0.6666666666666666,
              "#ed7953"
             ],
             [
              0.7777777777777778,
              "#fb9f3a"
             ],
             [
              0.8888888888888888,
              "#fdca26"
             ],
             [
              1,
              "#f0f921"
             ]
            ],
            "type": "heatmapgl"
           }
          ],
          "histogram": [
           {
            "marker": {
             "pattern": {
              "fillmode": "overlay",
              "size": 10,
              "solidity": 0.2
             }
            },
            "type": "histogram"
           }
          ],
          "histogram2d": [
           {
            "colorbar": {
             "outlinewidth": 0,
             "ticks": ""
            },
            "colorscale": [
             [
              0,
              "#0d0887"
             ],
             [
              0.1111111111111111,
              "#46039f"
             ],
             [
              0.2222222222222222,
              "#7201a8"
             ],
             [
              0.3333333333333333,
              "#9c179e"
             ],
             [
              0.4444444444444444,
              "#bd3786"
             ],
             [
              0.5555555555555556,
              "#d8576b"
             ],
             [
              0.6666666666666666,
              "#ed7953"
             ],
             [
              0.7777777777777778,
              "#fb9f3a"
             ],
             [
              0.8888888888888888,
              "#fdca26"
             ],
             [
              1,
              "#f0f921"
             ]
            ],
            "type": "histogram2d"
           }
          ],
          "histogram2dcontour": [
           {
            "colorbar": {
             "outlinewidth": 0,
             "ticks": ""
            },
            "colorscale": [
             [
              0,
              "#0d0887"
             ],
             [
              0.1111111111111111,
              "#46039f"
             ],
             [
              0.2222222222222222,
              "#7201a8"
             ],
             [
              0.3333333333333333,
              "#9c179e"
             ],
             [
              0.4444444444444444,
              "#bd3786"
             ],
             [
              0.5555555555555556,
              "#d8576b"
             ],
             [
              0.6666666666666666,
              "#ed7953"
             ],
             [
              0.7777777777777778,
              "#fb9f3a"
             ],
             [
              0.8888888888888888,
              "#fdca26"
             ],
             [
              1,
              "#f0f921"
             ]
            ],
            "type": "histogram2dcontour"
           }
          ],
          "mesh3d": [
           {
            "colorbar": {
             "outlinewidth": 0,
             "ticks": ""
            },
            "type": "mesh3d"
           }
          ],
          "parcoords": [
           {
            "line": {
             "colorbar": {
              "outlinewidth": 0,
              "ticks": ""
             }
            },
            "type": "parcoords"
           }
          ],
          "pie": [
           {
            "automargin": true,
            "type": "pie"
           }
          ],
          "scatter": [
           {
            "fillpattern": {
             "fillmode": "overlay",
             "size": 10,
             "solidity": 0.2
            },
            "type": "scatter"
           }
          ],
          "scatter3d": [
           {
            "line": {
             "colorbar": {
              "outlinewidth": 0,
              "ticks": ""
             }
            },
            "marker": {
             "colorbar": {
              "outlinewidth": 0,
              "ticks": ""
             }
            },
            "type": "scatter3d"
           }
          ],
          "scattercarpet": [
           {
            "marker": {
             "colorbar": {
              "outlinewidth": 0,
              "ticks": ""
             }
            },
            "type": "scattercarpet"
           }
          ],
          "scattergeo": [
           {
            "marker": {
             "colorbar": {
              "outlinewidth": 0,
              "ticks": ""
             }
            },
            "type": "scattergeo"
           }
          ],
          "scattergl": [
           {
            "marker": {
             "colorbar": {
              "outlinewidth": 0,
              "ticks": ""
             }
            },
            "type": "scattergl"
           }
          ],
          "scattermapbox": [
           {
            "marker": {
             "colorbar": {
              "outlinewidth": 0,
              "ticks": ""
             }
            },
            "type": "scattermapbox"
           }
          ],
          "scatterpolar": [
           {
            "marker": {
             "colorbar": {
              "outlinewidth": 0,
              "ticks": ""
             }
            },
            "type": "scatterpolar"
           }
          ],
          "scatterpolargl": [
           {
            "marker": {
             "colorbar": {
              "outlinewidth": 0,
              "ticks": ""
             }
            },
            "type": "scatterpolargl"
           }
          ],
          "scatterternary": [
           {
            "marker": {
             "colorbar": {
              "outlinewidth": 0,
              "ticks": ""
             }
            },
            "type": "scatterternary"
           }
          ],
          "surface": [
           {
            "colorbar": {
             "outlinewidth": 0,
             "ticks": ""
            },
            "colorscale": [
             [
              0,
              "#0d0887"
             ],
             [
              0.1111111111111111,
              "#46039f"
             ],
             [
              0.2222222222222222,
              "#7201a8"
             ],
             [
              0.3333333333333333,
              "#9c179e"
             ],
             [
              0.4444444444444444,
              "#bd3786"
             ],
             [
              0.5555555555555556,
              "#d8576b"
             ],
             [
              0.6666666666666666,
              "#ed7953"
             ],
             [
              0.7777777777777778,
              "#fb9f3a"
             ],
             [
              0.8888888888888888,
              "#fdca26"
             ],
             [
              1,
              "#f0f921"
             ]
            ],
            "type": "surface"
           }
          ],
          "table": [
           {
            "cells": {
             "fill": {
              "color": "#EBF0F8"
             },
             "line": {
              "color": "white"
             }
            },
            "header": {
             "fill": {
              "color": "#C8D4E3"
             },
             "line": {
              "color": "white"
             }
            },
            "type": "table"
           }
          ]
         },
         "layout": {
          "annotationdefaults": {
           "arrowcolor": "#2a3f5f",
           "arrowhead": 0,
           "arrowwidth": 1
          },
          "autotypenumbers": "strict",
          "coloraxis": {
           "colorbar": {
            "outlinewidth": 0,
            "ticks": ""
           }
          },
          "colorscale": {
           "diverging": [
            [
             0,
             "#8e0152"
            ],
            [
             0.1,
             "#c51b7d"
            ],
            [
             0.2,
             "#de77ae"
            ],
            [
             0.3,
             "#f1b6da"
            ],
            [
             0.4,
             "#fde0ef"
            ],
            [
             0.5,
             "#f7f7f7"
            ],
            [
             0.6,
             "#e6f5d0"
            ],
            [
             0.7,
             "#b8e186"
            ],
            [
             0.8,
             "#7fbc41"
            ],
            [
             0.9,
             "#4d9221"
            ],
            [
             1,
             "#276419"
            ]
           ],
           "sequential": [
            [
             0,
             "#0d0887"
            ],
            [
             0.1111111111111111,
             "#46039f"
            ],
            [
             0.2222222222222222,
             "#7201a8"
            ],
            [
             0.3333333333333333,
             "#9c179e"
            ],
            [
             0.4444444444444444,
             "#bd3786"
            ],
            [
             0.5555555555555556,
             "#d8576b"
            ],
            [
             0.6666666666666666,
             "#ed7953"
            ],
            [
             0.7777777777777778,
             "#fb9f3a"
            ],
            [
             0.8888888888888888,
             "#fdca26"
            ],
            [
             1,
             "#f0f921"
            ]
           ],
           "sequentialminus": [
            [
             0,
             "#0d0887"
            ],
            [
             0.1111111111111111,
             "#46039f"
            ],
            [
             0.2222222222222222,
             "#7201a8"
            ],
            [
             0.3333333333333333,
             "#9c179e"
            ],
            [
             0.4444444444444444,
             "#bd3786"
            ],
            [
             0.5555555555555556,
             "#d8576b"
            ],
            [
             0.6666666666666666,
             "#ed7953"
            ],
            [
             0.7777777777777778,
             "#fb9f3a"
            ],
            [
             0.8888888888888888,
             "#fdca26"
            ],
            [
             1,
             "#f0f921"
            ]
           ]
          },
          "colorway": [
           "#636efa",
           "#EF553B",
           "#00cc96",
           "#ab63fa",
           "#FFA15A",
           "#19d3f3",
           "#FF6692",
           "#B6E880",
           "#FF97FF",
           "#FECB52"
          ],
          "font": {
           "color": "#2a3f5f"
          },
          "geo": {
           "bgcolor": "white",
           "lakecolor": "white",
           "landcolor": "#E5ECF6",
           "showlakes": true,
           "showland": true,
           "subunitcolor": "white"
          },
          "hoverlabel": {
           "align": "left"
          },
          "hovermode": "closest",
          "mapbox": {
           "style": "light"
          },
          "paper_bgcolor": "white",
          "plot_bgcolor": "#E5ECF6",
          "polar": {
           "angularaxis": {
            "gridcolor": "white",
            "linecolor": "white",
            "ticks": ""
           },
           "bgcolor": "#E5ECF6",
           "radialaxis": {
            "gridcolor": "white",
            "linecolor": "white",
            "ticks": ""
           }
          },
          "scene": {
           "xaxis": {
            "backgroundcolor": "#E5ECF6",
            "gridcolor": "white",
            "gridwidth": 2,
            "linecolor": "white",
            "showbackground": true,
            "ticks": "",
            "zerolinecolor": "white"
           },
           "yaxis": {
            "backgroundcolor": "#E5ECF6",
            "gridcolor": "white",
            "gridwidth": 2,
            "linecolor": "white",
            "showbackground": true,
            "ticks": "",
            "zerolinecolor": "white"
           },
           "zaxis": {
            "backgroundcolor": "#E5ECF6",
            "gridcolor": "white",
            "gridwidth": 2,
            "linecolor": "white",
            "showbackground": true,
            "ticks": "",
            "zerolinecolor": "white"
           }
          },
          "shapedefaults": {
           "line": {
            "color": "#2a3f5f"
           }
          },
          "ternary": {
           "aaxis": {
            "gridcolor": "white",
            "linecolor": "white",
            "ticks": ""
           },
           "baxis": {
            "gridcolor": "white",
            "linecolor": "white",
            "ticks": ""
           },
           "bgcolor": "#E5ECF6",
           "caxis": {
            "gridcolor": "white",
            "linecolor": "white",
            "ticks": ""
           }
          },
          "title": {
           "x": 0.05
          },
          "xaxis": {
           "automargin": true,
           "gridcolor": "white",
           "linecolor": "white",
           "ticks": "",
           "title": {
            "standoff": 15
           },
           "zerolinecolor": "white",
           "zerolinewidth": 2
          },
          "yaxis": {
           "automargin": true,
           "gridcolor": "white",
           "linecolor": "white",
           "ticks": "",
           "title": {
            "standoff": 15
           },
           "zerolinecolor": "white",
           "zerolinewidth": 2
          }
         }
        },
        "title": {
         "text": "Slice Plot"
        },
        "xaxis": {
         "anchor": "y",
         "domain": [
          0,
          0.45
         ],
         "title": {
          "text": "max_depth"
         }
        },
        "xaxis2": {
         "anchor": "y2",
         "domain": [
          0.55,
          1
         ],
         "title": {
          "text": "n_estimators"
         }
        },
        "yaxis": {
         "anchor": "x",
         "domain": [
          0,
          1
         ],
         "title": {
          "text": "Objective Value"
         }
        },
        "yaxis2": {
         "anchor": "x2",
         "domain": [
          0,
          1
         ],
         "matches": "y",
         "showticklabels": false
        }
       }
      }
     },
     "metadata": {},
     "output_type": "display_data"
    }
   ],
   "source": [
    "from optuna.visualization import plot_slice\n",
    "\n",
    "plot_slice(study)"
   ]
  },
  {
   "cell_type": "markdown",
   "metadata": {},
   "source": [
    "По первому графику видно, что в целом максимальное значение max_depth было подобрано хорошо, хотя можно было бы поставить 14 вместо 15, так как это не сильно повлияло бы на модель. По второму графику можно сделать вывод, что для n_esrimators можно было поставить ограничение около 130"
   ]
  },
  {
   "cell_type": "code",
   "execution_count": 12,
   "metadata": {},
   "outputs": [],
   "source": [
    "import shap"
   ]
  },
  {
   "cell_type": "code",
   "execution_count": 13,
   "metadata": {},
   "outputs": [],
   "source": [
    "explainer = shap.Explainer(model)\n",
    "shap_values = explainer(X_test)"
   ]
  },
  {
   "cell_type": "code",
   "execution_count": 14,
   "metadata": {},
   "outputs": [
    {
     "data": {
      "image/png": "[encoded data removed]",
      "text/plain": [
       "<Figure size 800x650 with 1 Axes>"
      ]
     },
     "metadata": {},
     "output_type": "display_data"
    }
   ],
   "source": [
    "shap.plots.bar(shap_values)"
   ]
  },
  {
   "cell_type": "markdown",
   "metadata": {},
   "source": [
    "Проанализировав, какие признаки в целом больше всего влияют на прогноз, можно сделать вывод, что количество пользователей оказывает самое большое влияние. Также больше влияние оказывают год выпуска игры и PC"
   ]
  },
  {
   "cell_type": "code",
   "execution_count": 15,
   "metadata": {},
   "outputs": [
    {
     "data": {
      "image/png": "[encoded data removed]",
      "text/plain": [
       "<Figure size 800x550 with 2 Axes>"
      ]
     },
     "metadata": {},
     "output_type": "display_data"
    }
   ],
   "source": [
    "shap.plots.beeswarm(shap_values)"
   ]
  },
  {
   "cell_type": "markdown",
   "metadata": {},
   "source": [
    "Проанализировав самые влиятельные на предсказание признаки, по данному графику можно сделать вывод, что чем больше пользователей - тем лучше итоговые продажи игры, при этом старые игры являются более продаваемыми, чем новые. В целом это логично, а значит, что модель сделала правильные предсказания "
   ]
  },
  {
   "cell_type": "markdown",
   "metadata": {},
   "source": [
    "Далее рассмотрим отдельные предсказания"
   ]
  },
  {
   "cell_type": "code",
   "execution_count": 16,
   "metadata": {},
   "outputs": [
    {
     "data": {
      "image/png": "[encoded data removed]",
      "text/plain": [
       "<Figure size 800x650 with 3 Axes>"
      ]
     },
     "metadata": {},
     "output_type": "display_data"
    }
   ],
   "source": [
    "shap.plots.waterfall(shap_values[0])"
   ]
  },
  {
   "cell_type": "code",
   "execution_count": 17,
   "metadata": {},
   "outputs": [
    {
     "data": {
      "image/png": "[encoded data removed]",
      "text/plain": [
       "<Figure size 800x650 with 3 Axes>"
      ]
     },
     "metadata": {},
     "output_type": "display_data"
    }
   ],
   "source": [
    "shap.plots.waterfall(shap_values[1])"
   ]
  },
  {
   "cell_type": "markdown",
   "metadata": {},
   "source": [
    "Сравнивая значения первого и второго предсказания, можно сделать вывод, что количество пользователей больше всего повлияли на прогноз, и остальные значения имели примерно одинаковое влияние"
   ]
  },
  {
   "cell_type": "code",
   "execution_count": 18,
   "metadata": {},
   "outputs": [
    {
     "data": {
      "image/png": "[encoded data removed]",
      "text/plain": [
       "<Figure size 800x650 with 3 Axes>"
      ]
     },
     "metadata": {},
     "output_type": "display_data"
    }
   ],
   "source": [
    "shap.plots.waterfall(shap_values[5])"
   ]
  },
  {
   "cell_type": "markdown",
   "metadata": {},
   "source": [
    "Для 5 предсказания самое большое влияние оказал год выпуска, и в целом остальные признаки имели не такую же значимость, как в предыдущих случаях. Сделаем вывод, что в разных случаях модель ставит в приоритет разные параметры, что говорит о её качестве"
   ]
  }
 ],
 "metadata": {
  "kernelspec": {
   "display_name": "Python 3",
   "language": "python",
   "name": "python3"
  },
  "language_info": {
   "codemirror_mode": {
    "name": "ipython",
    "version": 3
   },
   "file_extension": ".py",
   "mimetype": "text/x-python",
   "name": "python",
   "nbconvert_exporter": "python",
   "pygments_lexer": "ipython3",
   "version": "3.11.3"
  }
 },
 "nbformat": 4,
 "nbformat_minor": 2
}
